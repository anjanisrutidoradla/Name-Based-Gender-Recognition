{
 "cells": [
  {
   "cell_type": "markdown",
   "metadata": {
    "id": "zIbx5v86zGzf"
   },
   "source": [
    "# Name Based Gender Recognition"
   ]
  },
  {
   "cell_type": "markdown",
   "metadata": {
    "id": "8DeIP4M_58zE"
   },
   "source": [
    "### Importing all the libraries "
   ]
  },
  {
   "cell_type": "code",
   "execution_count": 1,
   "metadata": {
    "id": "kvMb0ZCw5M2v"
   },
   "outputs": [],
   "source": [
    "import nltk\n",
    "import random\n",
    "import matplotlib.pyplot as plt\n",
    "import numpy as np\n",
    "import gensim\n",
    "from gensim.models import Word2Vec\n",
    "from sklearn.model_selection import train_test_split\n",
    "import tensorflow as tf\n",
    "from tensorflow.keras.layers import Dense, LSTM, MaxPooling1D, Conv1D, Dropout,Flatten\n",
    "from tensorflow.keras import Sequential\n",
    "from tensorflow.keras.optimizers import Adam, SGD, RMSprop\n",
    "from sklearn.metrics import confusion_matrix, precision_score, recall_score, f1_score\n",
    "import seaborn as sns\n"
   ]
  },
  {
   "cell_type": "markdown",
   "metadata": {
    "id": "AUWvTS4b6K0d"
   },
   "source": [
    "### Importing the data - male and female names from nltk library "
   ]
  },
  {
   "cell_type": "code",
   "execution_count": 2,
   "metadata": {
    "colab": {
     "base_uri": "https://localhost:8080/"
    },
    "id": "pZjtnzII6BB4",
    "outputId": "e3a190cd-3854-4548-8276-e08bb9cdfc4a"
   },
   "outputs": [
    {
     "name": "stderr",
     "output_type": "stream",
     "text": [
      "[nltk_data] Downloading package names to /root/nltk_data...\n",
      "[nltk_data]   Unzipping corpora/names.zip.\n"
     ]
    }
   ],
   "source": [
    "nltk.download('names')\n",
    "from nltk.corpus import names"
   ]
  },
  {
   "cell_type": "markdown",
   "metadata": {
    "id": "1jCAMEMK6mnx"
   },
   "source": [
    "#Data Preprocessing \n",
    "\n",
    "\n",
    "\n",
    "\n",
    "\n",
    "\n"
   ]
  },
  {
   "cell_type": "code",
   "execution_count": 3,
   "metadata": {
    "id": "C_IrMaRJ6eLb"
   },
   "outputs": [],
   "source": [
    "male_names , female_names = names.words('male.txt') , names.words('female.txt')\n",
    "male_labels , female_labels = ['Male']*len(male_names), ['Female']*len(female_names)"
   ]
  },
  {
   "cell_type": "code",
   "execution_count": 4,
   "metadata": {
    "colab": {
     "base_uri": "https://localhost:8080/"
    },
    "id": "Om4yOESv73jY",
    "outputId": "aa1a2f7c-1760-410a-b66f-bb047c46e8fb"
   },
   "outputs": [
    {
     "name": "stdout",
     "output_type": "stream",
     "text": [
      "The length of the data is 7944 which comprises of 2943 male names and 5001 female names.\n"
     ]
    }
   ],
   "source": [
    "# Joining both the male and females name data and creating labels of all the names in the dataset \n",
    "data = male_names + female_names\n",
    "labels = male_labels + female_labels\n",
    "print(\"The length of the data is\", len(data), \"which comprises of\" , len(male_names),\"male names and\", len(female_names),\"female names.\")"
   ]
  },
  {
   "cell_type": "code",
   "execution_count": 5,
   "metadata": {
    "id": "-5e1QR_q6eJF"
   },
   "outputs": [],
   "source": [
    "zipped_data_labels = zip(data, labels)\n",
    "list_data_labels = list(zipped_data_labels)\n",
    "\n",
    "#Shuffling the data and labels randomly\n",
    "random.shuffle(list_data_labels)\n",
    "\n",
    "data, labels = zip(*list_data_labels)\n",
    "data, labels  = np.array(data), np.array(labels)"
   ]
  },
  {
   "cell_type": "code",
   "execution_count": 6,
   "metadata": {
    "colab": {
     "base_uri": "https://localhost:8080/"
    },
    "id": "478ZS7kH7vMG",
    "outputId": "0f76687a-35be-4761-cc58-ed0f8a4af54d"
   },
   "outputs": [
    {
     "name": "stdout",
     "output_type": "stream",
     "text": [
      "['Tammara' 'Phebe' 'Bernelle' ... 'Julianna' 'Kristien' 'Miguel']\n",
      "['Female' 'Female' 'Female' ... 'Female' 'Female' 'Male']\n"
     ]
    }
   ],
   "source": [
    "print(data)\n",
    "print(labels)"
   ]
  },
  {
   "cell_type": "code",
   "execution_count": 7,
   "metadata": {
    "colab": {
     "base_uri": "https://localhost:8080/",
     "height": 428
    },
    "id": "dZl4YaOIEwk7",
    "outputId": "0af7b363-536c-49f8-88b7-4d9d13c86b6e"
   },
   "outputs": [
    {
     "data": {
      "image/png": "[encoded data removed]",
      "text/plain": [
       "<Figure size 640x480 with 1 Axes>"
      ]
     },
     "metadata": {},
     "output_type": "display_data"
    }
   ],
   "source": [
    "#Creating a visualization plot for the names data\n",
    "fig, ax = plt.subplots()\n",
    "lbl, counts = np.unique(labels, return_counts=True)\n",
    "explode = [0.1] * len(lbl)\n",
    "percentages = 100 * counts / np.sum(counts)\n",
    "labels_with_count = [f\"{l}\\n({c})\" for l, c, p in zip(lbl, counts, percentages)]\n",
    "ax.pie(counts, labels = labels_with_count, autopct = '%1.1f%%', startangle = 90)\n",
    "ax.set_title('Names Distribution by Gender')\n",
    "plt.show()"
   ]
  },
  {
   "cell_type": "code",
   "execution_count": 8,
   "metadata": {
    "id": "d1ddPG976eGo"
   },
   "outputs": [],
   "source": [
    "#Creating coded labels where 1 represents male and 0 represents Female\n",
    "coded_label = [1 if label==\"Male\" else 0 for label in labels]\n",
    "labels = np.array(coded_label, dtype = 'float32')"
   ]
  },
  {
   "cell_type": "code",
   "execution_count": 9,
   "metadata": {
    "id": "RvQho7GC6eDv"
   },
   "outputs": [],
   "source": [
    "#Converting the data into lower case and splitting the data into characters\n",
    "data = [list(name.lower()) for name in data]\n",
    "# data[:20]"
   ]
  },
  {
   "cell_type": "code",
   "execution_count": 10,
   "metadata": {
    "colab": {
     "base_uri": "https://localhost:8080/"
    },
    "id": "BmHVT6zl6eBB",
    "outputId": "0553a4f8-46f4-46bd-fd49-4b796ac5801a"
   },
   "outputs": [
    {
     "name": "stderr",
     "output_type": "stream",
     "text": [
      "WARNING:gensim.models.word2vec:EPOCH 0: supplied example count (0) did not equal expected count (7944)\n",
      "WARNING:gensim.models.word2vec:EPOCH 0: supplied raw word count (0) did not equal expected count (47925)\n",
      "WARNING:gensim.models.word2vec:EPOCH 1: supplied example count (0) did not equal expected count (7944)\n",
      "WARNING:gensim.models.word2vec:EPOCH 1: supplied raw word count (0) did not equal expected count (47925)\n",
      "WARNING:gensim.models.word2vec:EPOCH 2: supplied example count (0) did not equal expected count (7944)\n",
      "WARNING:gensim.models.word2vec:EPOCH 2: supplied raw word count (0) did not equal expected count (47925)\n",
      "WARNING:gensim.models.word2vec:EPOCH 3: supplied example count (0) did not equal expected count (7944)\n",
      "WARNING:gensim.models.word2vec:EPOCH 3: supplied raw word count (0) did not equal expected count (47925)\n",
      "WARNING:gensim.models.word2vec:EPOCH 4: supplied example count (0) did not equal expected count (7944)\n",
      "WARNING:gensim.models.word2vec:EPOCH 4: supplied raw word count (0) did not equal expected count (47925)\n"
     ]
    }
   ],
   "source": [
    "#Creating vector representations for words by using word2Vec\n",
    "size = 50\n",
    "word2vec = Word2Vec(data , vector_size = size , sg = 1 , min_count = 1, workers = -1)"
   ]
  },
  {
   "cell_type": "code",
   "execution_count": 11,
   "metadata": {
    "id": "oKBPxYnSCIV3"
   },
   "outputs": [],
   "source": [
    "#Creating vector representations for every character of a word \n",
    "word_vector = [[word2vec.wv[character] for character in name] for name in data]"
   ]
  },
  {
   "cell_type": "code",
   "execution_count": 12,
   "metadata": {
    "id": "A9bTAE3GCuWD"
   },
   "outputs": [],
   "source": [
    "#Padding \n",
    "#Padding each character with 0 \n",
    "max_name_length = 35\n",
    "padded_data = np.array([(name + [np.zeros(size, dtype='float32')]*(max_name_length-len(name))) for name in word_vector]).astype('float32')"
   ]
  },
  {
   "cell_type": "code",
   "execution_count": 13,
   "metadata": {
    "id": "dwQkVWQ9Du5s"
   },
   "outputs": [],
   "source": [
    "#Splitting the dataset into train and test data \n",
    "X_train, X_test, y_train, y_test = train_test_split(padded_data , labels, test_size = 0.20 , stratify = labels , random_state = 42)"
   ]
  },
  {
   "cell_type": "markdown",
   "metadata": {
    "id": "XXndJwAryqMT"
   },
   "source": [
    "### Helper functions to evaluate and plot the model *results*\n"
   ]
  },
  {
   "cell_type": "code",
   "execution_count": 14,
   "metadata": {
    "id": "E2qbG9GNELz3"
   },
   "outputs": [],
   "source": [
    "#Function to evaluate the model\n",
    "def model_evaluation(y_test, y_pred, accuracy):\n",
    "    f1 = f1_score(y_test, y_pred, average='binary')\n",
    "    precision = precision_score(y_test, y_pred, average='binary')\n",
    "    recall = recall_score(y_test, y_pred, average='binary')\n",
    "    cm = confusion_matrix(y_test, y_pred) \n",
    "    return {'Precision': precision, 'Recall': recall, 'f1_score': f1, 'Confusion matrix': cm, 'Accuracy' : accuracy}"
   ]
  },
  {
   "cell_type": "code",
   "execution_count": 15,
   "metadata": {
    "id": "awfCuEX-zhGE"
   },
   "outputs": [],
   "source": [
    "#Function to display and visualize the results of the model\n",
    "def model_plot(model_results):\n",
    "    print('Accuracy :', model_results['Accuracy'][1])\n",
    "    print('Precision :', model_results['Precision'])\n",
    "    print('Recall :', model_results['Recall'])\n",
    "    print('F1_Score :', model_results['f1_score'])\n",
    "    \n",
    "    cm = model_results['Confusion matrix']\n",
    "    ax = plt.subplot()\n",
    "    sns.heatmap(cm, annot = True, fmt = 'g', ax = ax, cmap = 'YlGnBu')\n",
    "    ax.set_ylabel('Predicted Labels');\n",
    "    ax.set_xlabel('True Labels')\n",
    "    ax.set_title('Confusion Matrix')\n",
    "    ax.xaxis.set_ticklabels(['Male', 'Female'])\n",
    "    ax.yaxis.set_ticklabels(['Male', 'Female'])\n",
    "    plt.show()\n"
   ]
  },
  {
   "cell_type": "code",
   "execution_count": 38,
   "metadata": {
    "id": "kjBR0htf3nFd"
   },
   "outputs": [],
   "source": [
    "#Function to compare the models\n",
    "def compare_models(cnn_results, lstm_results, lstmCnn_results):\n",
    "    zipped_model_accuracies = zip(cnn_results['Accuracy'], lstm_results['Accuracy'], lstmCnn_results['Accuracy'])\n",
    "    valuePlot = [val for val in zipped_model_accuracies]\n",
    "    x=range(len(valuePlot[0]))\n",
    "    fig,ax=plt.subplots()\n",
    "    ax.plot(x,valuePlot[0], label='Loss')\n",
    "    ax.plot(x,valuePlot[1], label='Accuracy')\n",
    "    ax.set_xticks([0,1,2])\n",
    "    ax.set_xticklabels(labels=['CNN', 'LSTM', 'LSTM + CNN'])\n",
    "    ax.set_title('Comparison of accuracy and loss')\n",
    "    ax.set_xlabel('Approaches')\n",
    "    ax.legend()\n",
    "    plt.show()"
   ]
  },
  {
   "cell_type": "markdown",
   "metadata": {
    "id": "Gm-fE1vLy74j"
   },
   "source": [
    "# MODELS"
   ]
  },
  {
   "cell_type": "markdown",
   "metadata": {
    "id": "OxP0LMkYfVpi"
   },
   "source": [
    "## CNN\n"
   ]
  },
  {
   "cell_type": "markdown",
   "metadata": {
    "id": "v3ncmwjYj4Ph"
   },
   "source": [
    "### Creating a CNN model "
   ]
  },
  {
   "cell_type": "code",
   "execution_count": 17,
   "metadata": {
    "colab": {
     "base_uri": "https://localhost:8080/"
    },
    "id": "3f106x7AGUXC",
    "outputId": "eb5f19ad-beb9-42fb-8ea4-99fe2e58631d"
   },
   "outputs": [
    {
     "name": "stdout",
     "output_type": "stream",
     "text": [
      "Model: \"sequential\"\n",
      "_________________________________________________________________\n",
      " Layer (type)                Output Shape              Param #   \n",
      "=================================================================\n",
      " conv1d (Conv1D)             (None, 35, 128)           19328     \n",
      "                                                                 \n",
      " dropout (Dropout)           (None, 35, 128)           0         \n",
      "                                                                 \n",
      " conv1d_1 (Conv1D)           (None, 35, 128)           49280     \n",
      "                                                                 \n",
      " dropout_1 (Dropout)         (None, 35, 128)           0         \n",
      "                                                                 \n",
      " flatten (Flatten)           (None, 4480)              0         \n",
      "                                                                 \n",
      " dense (Dense)               (None, 512)               2294272   \n",
      "                                                                 \n",
      " dense_1 (Dense)             (None, 2)                 1026      \n",
      "                                                                 \n",
      "=================================================================\n",
      "Total params: 2,363,906\n",
      "Trainable params: 2,363,906\n",
      "Non-trainable params: 0\n",
      "_________________________________________________________________\n"
     ]
    }
   ],
   "source": [
    "#Adding two 1-D layers to the CNN model\n",
    "model = Sequential()\n",
    "shape_of_input = X_train.shape[1:]\n",
    "model.add(Conv1D(128, kernel_size = (3), padding = 'same', input_shape = shape_of_input, activation='sigmoid'))\n",
    "model.add(Dropout(0.2))\n",
    "model.add(Conv1D(128, kernel_size = (3), padding='same', activation='sigmoid'))\n",
    "model.add(Dropout(0.3))\n",
    "model.add(Flatten())\n",
    "model.add(Dense(512, activation='sigmoid'))\n",
    "model.add(Dense(2, activation='softmax'))\n",
    "\n",
    "# Displaying the summary of the CNN model\n",
    "model.summary()"
   ]
  },
  {
   "cell_type": "markdown",
   "metadata": {
    "id": "fHKTVYLQknIv"
   },
   "source": [
    "### Initializing a optimizer, fitting and validating "
   ]
  },
  {
   "cell_type": "code",
   "execution_count": 18,
   "metadata": {
    "colab": {
     "base_uri": "https://localhost:8080/"
    },
    "id": "3x8fLcMYfnNF",
    "outputId": "236f2ee6-59e3-4bd5-dcdd-824ea91138e6"
   },
   "outputs": [
    {
     "name": "stdout",
     "output_type": "stream",
     "text": [
      "Epoch 1/30\n",
      "100/100 [==============================] - 22s 196ms/step - loss: 0.8467 - accuracy: 0.6013 - val_loss: 0.6771 - val_accuracy: 0.6293\n",
      "Epoch 2/30\n",
      "100/100 [==============================] - 8s 79ms/step - loss: 0.6632 - accuracy: 0.6296 - val_loss: 0.6814 - val_accuracy: 0.6293\n",
      "Epoch 3/30\n",
      "100/100 [==============================] - 9s 95ms/step - loss: 0.6682 - accuracy: 0.6277 - val_loss: 0.6638 - val_accuracy: 0.6293\n",
      "Epoch 4/30\n",
      "100/100 [==============================] - 9s 95ms/step - loss: 0.6647 - accuracy: 0.6291 - val_loss: 0.6592 - val_accuracy: 0.6293\n",
      "Epoch 5/30\n",
      "100/100 [==============================] - 9s 89ms/step - loss: 0.6684 - accuracy: 0.6231 - val_loss: 0.6615 - val_accuracy: 0.6293\n",
      "Epoch 6/30\n",
      "100/100 [==============================] - 8s 82ms/step - loss: 0.6624 - accuracy: 0.6296 - val_loss: 0.6622 - val_accuracy: 0.6293\n",
      "Epoch 7/30\n",
      "100/100 [==============================] - 10s 103ms/step - loss: 0.6610 - accuracy: 0.6296 - val_loss: 0.6593 - val_accuracy: 0.6293\n",
      "Epoch 8/30\n",
      "100/100 [==============================] - 10s 96ms/step - loss: 0.6621 - accuracy: 0.6296 - val_loss: 0.6592 - val_accuracy: 0.6293\n",
      "Epoch 9/30\n",
      "100/100 [==============================] - 8s 82ms/step - loss: 0.6616 - accuracy: 0.6296 - val_loss: 0.6607 - val_accuracy: 0.6293\n",
      "Epoch 10/30\n",
      "100/100 [==============================] - 12s 118ms/step - loss: 0.6637 - accuracy: 0.6296 - val_loss: 0.6648 - val_accuracy: 0.6293\n",
      "Epoch 11/30\n",
      "100/100 [==============================] - 10s 102ms/step - loss: 0.6732 - accuracy: 0.6170 - val_loss: 0.6598 - val_accuracy: 0.6293\n",
      "Epoch 12/30\n",
      "100/100 [==============================] - 10s 99ms/step - loss: 0.6639 - accuracy: 0.6296 - val_loss: 0.6622 - val_accuracy: 0.6293\n",
      "Epoch 13/30\n",
      "100/100 [==============================] - 8s 81ms/step - loss: 0.6623 - accuracy: 0.6296 - val_loss: 0.6687 - val_accuracy: 0.6293\n",
      "Epoch 14/30\n",
      "100/100 [==============================] - 10s 98ms/step - loss: 0.6627 - accuracy: 0.6296 - val_loss: 0.6607 - val_accuracy: 0.6293\n",
      "Epoch 15/30\n",
      "100/100 [==============================] - 10s 99ms/step - loss: 0.6636 - accuracy: 0.6296 - val_loss: 0.6655 - val_accuracy: 0.6293\n",
      "Epoch 16/30\n",
      "100/100 [==============================] - 8s 83ms/step - loss: 0.6631 - accuracy: 0.6282 - val_loss: 0.6681 - val_accuracy: 0.6293\n",
      "Epoch 17/30\n",
      "100/100 [==============================] - 9s 94ms/step - loss: 0.6654 - accuracy: 0.6296 - val_loss: 0.6598 - val_accuracy: 0.6293\n",
      "Epoch 18/30\n",
      "100/100 [==============================] - 9s 91ms/step - loss: 0.6660 - accuracy: 0.6296 - val_loss: 0.6977 - val_accuracy: 0.6293\n",
      "Epoch 19/30\n",
      "100/100 [==============================] - 8s 83ms/step - loss: 0.6668 - accuracy: 0.6296 - val_loss: 0.6655 - val_accuracy: 0.6293\n",
      "Epoch 20/30\n",
      "100/100 [==============================] - 10s 96ms/step - loss: 0.6640 - accuracy: 0.6296 - val_loss: 0.6811 - val_accuracy: 0.6293\n",
      "Epoch 21/30\n",
      "100/100 [==============================] - 10s 101ms/step - loss: 0.6665 - accuracy: 0.6296 - val_loss: 0.6740 - val_accuracy: 0.6293\n",
      "Epoch 22/30\n",
      "100/100 [==============================] - 9s 91ms/step - loss: 0.6616 - accuracy: 0.6297 - val_loss: 0.6549 - val_accuracy: 0.6293\n",
      "Epoch 23/30\n",
      "100/100 [==============================] - 9s 85ms/step - loss: 0.6512 - accuracy: 0.6346 - val_loss: 0.6478 - val_accuracy: 0.6356\n",
      "Epoch 24/30\n",
      "100/100 [==============================] - 10s 95ms/step - loss: 0.6070 - accuracy: 0.6683 - val_loss: 0.6168 - val_accuracy: 0.6463\n",
      "Epoch 25/30\n",
      "100/100 [==============================] - 10s 97ms/step - loss: 0.6112 - accuracy: 0.6724 - val_loss: 0.5752 - val_accuracy: 0.7042\n",
      "Epoch 26/30\n",
      "100/100 [==============================] - 8s 78ms/step - loss: 0.5853 - accuracy: 0.6922 - val_loss: 0.6176 - val_accuracy: 0.6413\n",
      "Epoch 27/30\n",
      "100/100 [==============================] - 10s 96ms/step - loss: 0.5906 - accuracy: 0.6809 - val_loss: 0.5570 - val_accuracy: 0.7218\n",
      "Epoch 28/30\n",
      "100/100 [==============================] - 10s 99ms/step - loss: 0.5800 - accuracy: 0.7004 - val_loss: 0.5578 - val_accuracy: 0.7225\n",
      "Epoch 29/30\n",
      "100/100 [==============================] - 8s 84ms/step - loss: 0.5795 - accuracy: 0.6991 - val_loss: 0.5573 - val_accuracy: 0.7143\n",
      "Epoch 30/30\n",
      "100/100 [==============================] - 9s 93ms/step - loss: 0.5824 - accuracy: 0.6895 - val_loss: 0.5550 - val_accuracy: 0.7193\n"
     ]
    }
   ],
   "source": [
    "#Adam optimizer is being initialized with a learning rate = 0.001\n",
    "optimizer = Adam(learning_rate = 0.001)\n",
    "\n",
    "#Fitting of the data by using the testing data for validation\n",
    "model.compile(loss = 'sparse_categorical_crossentropy', optimizer = optimizer, metrics = ['accuracy'])\n",
    "history = model.fit(X_train, y_train, validation_data = (X_test, y_test), epochs = 30, batch_size = 64, verbose = 1)"
   ]
  },
  {
   "cell_type": "code",
   "execution_count": 20,
   "metadata": {
    "colab": {
     "base_uri": "https://localhost:8080/"
    },
    "id": "jBIJLq1v0E2A",
    "outputId": "e2e584d8-a4e9-4c48-814a-bb34d1412e26"
   },
   "outputs": [
    {
     "name": "stdout",
     "output_type": "stream",
     "text": [
      "50/50 [==============================] - 1s 14ms/step\n",
      "50/50 [==============================] - 1s 11ms/step - loss: 0.5550 - accuracy: 0.7193\n"
     ]
    }
   ],
   "source": [
    "#Calculating the evaluation of CNN model\n",
    "predictions_cnn = model.predict(X_test)\n",
    "y_pred = np.argmax(predictions_cnn , axis = 1).astype('float32')\n",
    "cnn_results = model_evaluation(y_test, y_pred, model.evaluate(X_test,y_test))"
   ]
  },
  {
   "cell_type": "markdown",
   "metadata": {
    "id": "2KoZ7O99lXgq"
   },
   "source": [
    "## LSTM"
   ]
  },
  {
   "cell_type": "markdown",
   "metadata": {
    "id": "T5gLHkGhlfpz"
   },
   "source": [
    "### Creating a LSTM model"
   ]
  },
  {
   "cell_type": "code",
   "execution_count": 22,
   "metadata": {
    "colab": {
     "base_uri": "https://localhost:8080/"
    },
    "id": "godAfZAllNfz",
    "outputId": "89cee479-637e-4f61-e0c3-b91b2be545f3"
   },
   "outputs": [
    {
     "name": "stdout",
     "output_type": "stream",
     "text": [
      "Model: \"sequential_1\"\n",
      "_________________________________________________________________\n",
      " Layer (type)                Output Shape              Param #   \n",
      "=================================================================\n",
      " lstm (LSTM)                 (None, 128)               91648     \n",
      "                                                                 \n",
      " dropout_2 (Dropout)         (None, 128)               0         \n",
      "                                                                 \n",
      " flatten_1 (Flatten)         (None, 128)               0         \n",
      "                                                                 \n",
      " dense_2 (Dense)             (None, 512)               66048     \n",
      "                                                                 \n",
      " dense_3 (Dense)             (None, 1)                 513       \n",
      "                                                                 \n",
      "=================================================================\n",
      "Total params: 158,209\n",
      "Trainable params: 158,209\n",
      "Non-trainable params: 0\n",
      "_________________________________________________________________\n"
     ]
    }
   ],
   "source": [
    "#Adding 1 LSTM layer \n",
    "model = Sequential()\n",
    "lstm_inputshape = X_train.shape[1:]\n",
    "model.add(LSTM(128, input_shape = lstm_inputshape , activation = 'relu'))\n",
    "model.add(Dropout(0.3))\n",
    "model.add(Flatten())\n",
    "model.add(Dense(512,activation = 'relu'))\n",
    "model.add(Dense(1))\n",
    "\n",
    "# Displaying the summary of the LSTM model\n",
    "model.summary()"
   ]
  },
  {
   "cell_type": "markdown",
   "metadata": {
    "id": "rLdbZaqflmdf"
   },
   "source": [
    "### Initializing an optimizer, fitting and validating "
   ]
  },
  {
   "cell_type": "code",
   "execution_count": 23,
   "metadata": {
    "colab": {
     "base_uri": "https://localhost:8080/"
    },
    "id": "6fXnHHHsl51W",
    "outputId": "48c8016f-8150-434c-d92b-590d4332447c"
   },
   "outputs": [
    {
     "name": "stdout",
     "output_type": "stream",
     "text": [
      "Epoch 1/30\n",
      "100/100 [==============================] - 11s 96ms/step - loss: 0.7298 - accuracy: 0.6217 - val_loss: 0.6676 - val_accuracy: 0.6293\n",
      "Epoch 2/30\n",
      "100/100 [==============================] - 9s 92ms/step - loss: 0.6711 - accuracy: 0.6217 - val_loss: 0.6625 - val_accuracy: 0.6293\n",
      "Epoch 3/30\n",
      "100/100 [==============================] - 8s 82ms/step - loss: 0.6614 - accuracy: 0.6192 - val_loss: 0.6227 - val_accuracy: 0.6312\n",
      "Epoch 4/30\n",
      "100/100 [==============================] - 9s 92ms/step - loss: 0.6457 - accuracy: 0.6338 - val_loss: 0.6368 - val_accuracy: 0.6608\n",
      "Epoch 5/30\n",
      "100/100 [==============================] - 9s 94ms/step - loss: 0.6335 - accuracy: 0.6557 - val_loss: 0.6296 - val_accuracy: 0.6362\n",
      "Epoch 6/30\n",
      "100/100 [==============================] - 8s 80ms/step - loss: 0.6163 - accuracy: 0.6636 - val_loss: 0.5972 - val_accuracy: 0.7067\n",
      "Epoch 7/30\n",
      "100/100 [==============================] - 9s 91ms/step - loss: 0.6128 - accuracy: 0.6673 - val_loss: 0.6020 - val_accuracy: 0.6293\n",
      "Epoch 8/30\n",
      "100/100 [==============================] - 10s 97ms/step - loss: 0.6119 - accuracy: 0.6795 - val_loss: 0.5697 - val_accuracy: 0.7212\n",
      "Epoch 9/30\n",
      "100/100 [==============================] - 8s 81ms/step - loss: 0.5902 - accuracy: 0.6936 - val_loss: 0.5641 - val_accuracy: 0.7162\n",
      "Epoch 10/30\n",
      "100/100 [==============================] - 10s 98ms/step - loss: 0.5916 - accuracy: 0.7018 - val_loss: 0.5478 - val_accuracy: 0.7426\n",
      "Epoch 11/30\n",
      "100/100 [==============================] - 10s 97ms/step - loss: 0.5914 - accuracy: 0.7114 - val_loss: 0.6044 - val_accuracy: 0.7149\n",
      "Epoch 12/30\n",
      "100/100 [==============================] - 8s 77ms/step - loss: 0.5890 - accuracy: 0.7124 - val_loss: 0.6532 - val_accuracy: 0.6520\n",
      "Epoch 13/30\n",
      "100/100 [==============================] - 9s 92ms/step - loss: 0.6039 - accuracy: 0.7153 - val_loss: 0.5518 - val_accuracy: 0.7162\n",
      "Epoch 14/30\n",
      "100/100 [==============================] - 10s 98ms/step - loss: 0.5927 - accuracy: 0.6976 - val_loss: 0.6544 - val_accuracy: 0.6438\n",
      "Epoch 15/30\n",
      "100/100 [==============================] - 8s 78ms/step - loss: 0.5878 - accuracy: 0.7235 - val_loss: 0.5793 - val_accuracy: 0.7382\n",
      "Epoch 16/30\n",
      "100/100 [==============================] - 9s 93ms/step - loss: 0.5639 - accuracy: 0.7352 - val_loss: 1.5545 - val_accuracy: 0.7004\n",
      "Epoch 17/30\n",
      "100/100 [==============================] - 10s 99ms/step - loss: 0.5919 - accuracy: 0.7364 - val_loss: 0.5101 - val_accuracy: 0.7835\n",
      "Epoch 18/30\n",
      "100/100 [==============================] - 8s 79ms/step - loss: 0.5501 - accuracy: 0.7462 - val_loss: 0.4977 - val_accuracy: 0.7879\n",
      "Epoch 19/30\n",
      "100/100 [==============================] - 9s 94ms/step - loss: 0.5370 - accuracy: 0.7523 - val_loss: 0.4922 - val_accuracy: 0.7898\n",
      "Epoch 20/30\n",
      "100/100 [==============================] - 10s 96ms/step - loss: 0.5547 - accuracy: 0.7558 - val_loss: 0.5000 - val_accuracy: 0.7898\n",
      "Epoch 21/30\n",
      "100/100 [==============================] - 8s 81ms/step - loss: 0.5476 - accuracy: 0.7596 - val_loss: 0.6684 - val_accuracy: 0.6721\n",
      "Epoch 22/30\n",
      "100/100 [==============================] - 9s 93ms/step - loss: 0.5754 - accuracy: 0.7207 - val_loss: 0.5492 - val_accuracy: 0.7684\n",
      "Epoch 23/30\n",
      "100/100 [==============================] - 10s 98ms/step - loss: 0.5505 - accuracy: 0.7640 - val_loss: 0.4851 - val_accuracy: 0.7873\n",
      "Epoch 24/30\n",
      "100/100 [==============================] - 9s 91ms/step - loss: 0.5296 - accuracy: 0.7674 - val_loss: 0.5071 - val_accuracy: 0.7911\n",
      "Epoch 25/30\n",
      "100/100 [==============================] - 8s 84ms/step - loss: 0.5322 - accuracy: 0.7673 - val_loss: 0.5434 - val_accuracy: 0.6293\n",
      "Epoch 26/30\n",
      "100/100 [==============================] - 9s 92ms/step - loss: 0.5224 - accuracy: 0.7690 - val_loss: 0.6395 - val_accuracy: 0.7067\n",
      "Epoch 27/30\n",
      "100/100 [==============================] - 9s 86ms/step - loss: 0.5313 - accuracy: 0.7654 - val_loss: 0.5007 - val_accuracy: 0.7879\n",
      "Epoch 28/30\n",
      "100/100 [==============================] - 9s 85ms/step - loss: 0.5036 - accuracy: 0.7681 - val_loss: 0.4764 - val_accuracy: 0.7885\n",
      "Epoch 29/30\n",
      "100/100 [==============================] - 9s 94ms/step - loss: 0.5174 - accuracy: 0.7693 - val_loss: 0.5096 - val_accuracy: 0.7470\n",
      "Epoch 30/30\n",
      "100/100 [==============================] - 9s 85ms/step - loss: 0.4922 - accuracy: 0.7817 - val_loss: 0.4978 - val_accuracy: 0.7495\n"
     ]
    }
   ],
   "source": [
    "#RMSprop optimizer is being initialized with a learning rate = 0.001\n",
    "optimizer_lstm = RMSprop(learning_rate=0.001)\n",
    "\n",
    "#Fitting of the data by using the testing data for validation\n",
    "model.compile(loss = 'binary_crossentropy', optimizer = 'rmsprop', metrics = ['accuracy'])\n",
    "hisotry = model.fit(X_train,y_train, validation_data = (X_test,y_test), epochs = 30, batch_size = 64, verbose = 1)"
   ]
  },
  {
   "cell_type": "code",
   "execution_count": 24,
   "metadata": {
    "colab": {
     "base_uri": "https://localhost:8080/"
    },
    "id": "P3uLA-FB0hQ_",
    "outputId": "93761c32-f48d-49a8-e478-d10c039e4306"
   },
   "outputs": [
    {
     "name": "stdout",
     "output_type": "stream",
     "text": [
      "50/50 [==============================] - 1s 20ms/step\n",
      "50/50 [==============================] - 1s 19ms/step - loss: 0.4978 - accuracy: 0.7495\n"
     ]
    }
   ],
   "source": [
    "#Calculating the evaluation of LSTM model\n",
    "predictions_lstm = model.predict(X_test)\n",
    "y_pred = np.where(predictions_lstm > 0.5 , 1., 0.).flatten().astype('float32')\n",
    "lstm_results = model_evaluation(y_test, y_pred, model.evaluate(X_test, y_test))"
   ]
  },
  {
   "cell_type": "markdown",
   "metadata": {
    "id": "fhQrKJVf0u22"
   },
   "source": [
    "## LSTM & CNN "
   ]
  },
  {
   "cell_type": "markdown",
   "metadata": {
    "id": "chY6R_5903bi"
   },
   "source": [
    "### Creating a LSTM and CNN model "
   ]
  },
  {
   "cell_type": "code",
   "execution_count": 26,
   "metadata": {
    "colab": {
     "base_uri": "https://localhost:8080/"
    },
    "id": "ds-aZCMA02XG",
    "outputId": "78963821-f810-4046-ac41-4108abf0f34b"
   },
   "outputs": [
    {
     "name": "stdout",
     "output_type": "stream",
     "text": [
      "Model: \"sequential_2\"\n",
      "_________________________________________________________________\n",
      " Layer (type)                Output Shape              Param #   \n",
      "=================================================================\n",
      " lstm_1 (LSTM)               (None, 35, 128)           91648     \n",
      "                                                                 \n",
      " dropout_3 (Dropout)         (None, 35, 128)           0         \n",
      "                                                                 \n",
      " conv1d_2 (Conv1D)           (None, 35, 128)           49280     \n",
      "                                                                 \n",
      " dropout_4 (Dropout)         (None, 35, 128)           0         \n",
      "                                                                 \n",
      " flatten_2 (Flatten)         (None, 4480)              0         \n",
      "                                                                 \n",
      " dense_4 (Dense)             (None, 512)               2294272   \n",
      "                                                                 \n",
      " dense_5 (Dense)             (None, 2)                 1026      \n",
      "                                                                 \n",
      "=================================================================\n",
      "Total params: 2,436,226\n",
      "Trainable params: 2,436,226\n",
      "Non-trainable params: 0\n",
      "_________________________________________________________________\n"
     ]
    }
   ],
   "source": [
    "model=Sequential()\n",
    "#Adding 1 LSTM Layer\n",
    "model.add(LSTM(128, input_shape = (X_train.shape[1:]) , activation = 'relu', return_sequences = True))\n",
    "model.add(Dropout(0.3))\n",
    "\n",
    "#Adding 1 1-D CNN layer \n",
    "model.add(Conv1D(128,kernel_size = (3), padding = 'same', activation = 'relu'))\n",
    "model.add(Dropout(0.2))\n",
    "model.add(Flatten())\n",
    "\n",
    "model.add(Dense(512, activation = 'relu'))\n",
    "model.add(Dense(2, activation = 'softmax'))\n",
    "\n",
    "#Displaying the model summary \n",
    "model.summary()"
   ]
  },
  {
   "cell_type": "code",
   "execution_count": 27,
   "metadata": {
    "colab": {
     "base_uri": "https://localhost:8080/"
    },
    "id": "cIwg7R7D1kSm",
    "outputId": "8844c174-80e9-4264-80fb-14ecd27707fb"
   },
   "outputs": [
    {
     "name": "stdout",
     "output_type": "stream",
     "text": [
      "Epoch 1/30\n",
      "199/199 [==============================] - 29s 133ms/step - loss: 0.6466 - accuracy: 0.6386 - val_loss: 0.5727 - val_accuracy: 0.7042\n",
      "Epoch 2/30\n",
      "199/199 [==============================] - 24s 119ms/step - loss: 0.5682 - accuracy: 0.7081 - val_loss: 0.5247 - val_accuracy: 0.7413\n",
      "Epoch 3/30\n",
      "199/199 [==============================] - 23s 115ms/step - loss: 0.5326 - accuracy: 0.7400 - val_loss: 0.5210 - val_accuracy: 0.7634\n",
      "Epoch 4/30\n",
      "199/199 [==============================] - 23s 117ms/step - loss: 0.5117 - accuracy: 0.7539 - val_loss: 0.4788 - val_accuracy: 0.7728\n",
      "Epoch 5/30\n",
      "199/199 [==============================] - 22s 110ms/step - loss: 0.5048 - accuracy: 0.7564 - val_loss: 0.4880 - val_accuracy: 0.7640\n",
      "Epoch 6/30\n",
      "199/199 [==============================] - 24s 121ms/step - loss: 0.4969 - accuracy: 0.7637 - val_loss: 0.4791 - val_accuracy: 0.7741\n",
      "Epoch 7/30\n",
      "199/199 [==============================] - 24s 122ms/step - loss: 0.4841 - accuracy: 0.7690 - val_loss: 0.4485 - val_accuracy: 0.7917\n",
      "Epoch 8/30\n",
      "199/199 [==============================] - 23s 115ms/step - loss: 0.4748 - accuracy: 0.7728 - val_loss: 0.4348 - val_accuracy: 0.7955\n",
      "Epoch 9/30\n",
      "199/199 [==============================] - 22s 110ms/step - loss: 0.4645 - accuracy: 0.7806 - val_loss: 0.4356 - val_accuracy: 0.8037\n",
      "Epoch 10/30\n",
      "199/199 [==============================] - 23s 115ms/step - loss: 0.4572 - accuracy: 0.7810 - val_loss: 0.4359 - val_accuracy: 0.7854\n",
      "Epoch 11/30\n",
      "199/199 [==============================] - 24s 122ms/step - loss: 0.4450 - accuracy: 0.7854 - val_loss: 0.4362 - val_accuracy: 0.7709\n",
      "Epoch 12/30\n",
      "199/199 [==============================] - 23s 115ms/step - loss: 0.4388 - accuracy: 0.7924 - val_loss: 0.4330 - val_accuracy: 0.7980\n",
      "Epoch 13/30\n",
      "199/199 [==============================] - 23s 114ms/step - loss: 0.4312 - accuracy: 0.7962 - val_loss: 0.4149 - val_accuracy: 0.8005\n",
      "Epoch 14/30\n",
      "199/199 [==============================] - 23s 115ms/step - loss: 0.4303 - accuracy: 0.7981 - val_loss: 0.3948 - val_accuracy: 0.8150\n",
      "Epoch 15/30\n",
      "199/199 [==============================] - 23s 117ms/step - loss: 0.4201 - accuracy: 0.7976 - val_loss: 0.4164 - val_accuracy: 0.8081\n",
      "Epoch 16/30\n",
      "199/199 [==============================] - 22s 112ms/step - loss: 0.4141 - accuracy: 0.8085 - val_loss: 0.5173 - val_accuracy: 0.7716\n",
      "Epoch 17/30\n",
      "199/199 [==============================] - 22s 112ms/step - loss: 0.4075 - accuracy: 0.8099 - val_loss: 0.3946 - val_accuracy: 0.8106\n",
      "Epoch 18/30\n",
      "199/199 [==============================] - 23s 115ms/step - loss: 0.4106 - accuracy: 0.8046 - val_loss: 0.4353 - val_accuracy: 0.7974\n",
      "Epoch 19/30\n",
      "199/199 [==============================] - 21s 108ms/step - loss: 0.4034 - accuracy: 0.8028 - val_loss: 0.3837 - val_accuracy: 0.8282\n",
      "Epoch 20/30\n",
      "199/199 [==============================] - 23s 115ms/step - loss: 0.3969 - accuracy: 0.8142 - val_loss: 0.3824 - val_accuracy: 0.8232\n",
      "Epoch 21/30\n",
      "199/199 [==============================] - 23s 115ms/step - loss: 0.3910 - accuracy: 0.8140 - val_loss: 0.3781 - val_accuracy: 0.8238\n",
      "Epoch 22/30\n",
      "199/199 [==============================] - 23s 116ms/step - loss: 0.3838 - accuracy: 0.8187 - val_loss: 0.4151 - val_accuracy: 0.7992\n",
      "Epoch 23/30\n",
      "199/199 [==============================] - 22s 113ms/step - loss: 0.3835 - accuracy: 0.8212 - val_loss: 0.3826 - val_accuracy: 0.8156\n",
      "Epoch 24/30\n",
      "199/199 [==============================] - 23s 115ms/step - loss: 0.3775 - accuracy: 0.8236 - val_loss: 0.3821 - val_accuracy: 0.8194\n",
      "Epoch 25/30\n",
      "199/199 [==============================] - 29s 146ms/step - loss: 0.3723 - accuracy: 0.8227 - val_loss: 0.3866 - val_accuracy: 0.8238\n",
      "Epoch 26/30\n",
      "199/199 [==============================] - 24s 120ms/step - loss: 0.3702 - accuracy: 0.8233 - val_loss: 0.3673 - val_accuracy: 0.8288\n",
      "Epoch 27/30\n",
      "199/199 [==============================] - 27s 138ms/step - loss: 0.3663 - accuracy: 0.8279 - val_loss: 0.3668 - val_accuracy: 0.8332\n",
      "Epoch 28/30\n",
      "199/199 [==============================] - 24s 119ms/step - loss: 0.3602 - accuracy: 0.8308 - val_loss: 0.3673 - val_accuracy: 0.8320\n",
      "Epoch 29/30\n",
      "199/199 [==============================] - 24s 118ms/step - loss: 0.3546 - accuracy: 0.8360 - val_loss: 0.3883 - val_accuracy: 0.8332\n",
      "Epoch 30/30\n",
      "199/199 [==============================] - 23s 113ms/step - loss: 0.3517 - accuracy: 0.8340 - val_loss: 0.3650 - val_accuracy: 0.8332\n"
     ]
    }
   ],
   "source": [
    "#RMSprop optimizer is being initialized with a learning rate = 0.001\n",
    "optimizer_lstmCnn = RMSprop(learning_rate=0.001)\n",
    "\n",
    "#Fitting of the data by using the testing data for validation\n",
    "model.compile(loss = 'sparse_categorical_crossentropy', optimizer = optimizer_lstmCnn, metrics = ['accuracy'])\n",
    "hisotry = model.fit(X_train,y_train, validation_data = (X_test,y_test), epochs = 30, batch_size = 32, verbose = 1)"
   ]
  },
  {
   "cell_type": "code",
   "execution_count": 28,
   "metadata": {
    "colab": {
     "base_uri": "https://localhost:8080/"
    },
    "id": "KvFmKCmH1sp7",
    "outputId": "94a53974-8e4b-410c-95ce-247b876e8941"
   },
   "outputs": [
    {
     "name": "stdout",
     "output_type": "stream",
     "text": [
      "50/50 [==============================] - 2s 38ms/step\n",
      "50/50 [==============================] - 2s 37ms/step - loss: 0.3650 - accuracy: 0.8332\n"
     ]
    }
   ],
   "source": [
    "#Calculating the evaluation of LSTM & CNN model\n",
    "predictions_combined = model.predict(X_test)\n",
    "y_pred = np.argmax(predictions_combined , axis = 1).astype('float32')\n",
    "lstmCnn_results = model_evaluation(y_test, y_pred, model.evaluate(X_test,y_test))"
   ]
  },
  {
   "cell_type": "markdown",
   "metadata": {
    "id": "GtNtCBNv2GWJ"
   },
   "source": [
    "# RESULTS"
   ]
  },
  {
   "cell_type": "markdown",
   "metadata": {
    "id": "LfKIjkvD2TZh"
   },
   "source": [
    "### CNN "
   ]
  },
  {
   "cell_type": "code",
   "execution_count": 29,
   "metadata": {
    "colab": {
     "base_uri": "https://localhost:8080/",
     "height": 544
    },
    "id": "mXKC-XHc2F64",
    "outputId": "99ec5055-0591-4639-8638-0865a4f5dbf5"
   },
   "outputs": [
    {
     "name": "stdout",
     "output_type": "stream",
     "text": [
      "Accuracy : 0.7193203568458557\n",
      "Precision : 0.7457044673539519\n",
      "Recall : 0.3684210526315789\n",
      "F1_Score : 0.4931818181818181\n"
     ]
    },
    {
     "data": {
      "image/png": "[encoded data removed]",
      "text/plain": [
       "<Figure size 640x480 with 2 Axes>"
      ]
     },
     "metadata": {},
     "output_type": "display_data"
    }
   ],
   "source": [
    "model_plot(cnn_results)"
   ]
  },
  {
   "cell_type": "markdown",
   "metadata": {
    "id": "y5Nl0c0d2e5g"
   },
   "source": [
    "### LSTM\n",
    "\n"
   ]
  },
  {
   "cell_type": "code",
   "execution_count": 30,
   "metadata": {
    "colab": {
     "base_uri": "https://localhost:8080/",
     "height": 544
    },
    "id": "fiu3jXhz2mHa",
    "outputId": "9766cbfa-12de-4bfe-c1ea-afd428bfd5d8"
   },
   "outputs": [
    {
     "name": "stdout",
     "output_type": "stream",
     "text": [
      "Accuracy : 0.7495279908180237\n",
      "Precision : 0.6146458583433373\n",
      "Recall : 0.8692699490662139\n",
      "F1_Score : 0.7201125175808719\n"
     ]
    },
    {
     "data": {
      "image/png": "[encoded data removed]",
      "text/plain": [
       "<Figure size 640x480 with 2 Axes>"
      ]
     },
     "metadata": {},
     "output_type": "display_data"
    }
   ],
   "source": [
    "model_plot(lstm_results)"
   ]
  },
  {
   "cell_type": "markdown",
   "metadata": {
    "id": "Hej5wWFF2qH2"
   },
   "source": [
    "### LSTM & CNN"
   ]
  },
  {
   "cell_type": "code",
   "execution_count": 31,
   "metadata": {
    "colab": {
     "base_uri": "https://localhost:8080/",
     "height": 544
    },
    "id": "AkbbIQyc2tzR",
    "outputId": "97371857-002f-4a78-cefa-d57710f02355"
   },
   "outputs": [
    {
     "name": "stdout",
     "output_type": "stream",
     "text": [
      "Accuracy : 0.8332284688949585\n",
      "Precision : 0.7773972602739726\n",
      "Recall : 0.7707979626485568\n",
      "F1_Score : 0.774083546462063\n"
     ]
    },
    {
     "data": {
      "image/png": "[encoded data removed]",
      "text/plain": [
       "<Figure size 640x480 with 2 Axes>"
      ]
     },
     "metadata": {},
     "output_type": "display_data"
    }
   ],
   "source": [
    "model_plot(lstmCnn_results)"
   ]
  },
  {
   "cell_type": "markdown",
   "metadata": {
    "id": "UUnAZ6SW4j2h"
   },
   "source": [
    "### COMPARISON OF THE RESULTS "
   ]
  },
  {
   "cell_type": "code",
   "execution_count": 39,
   "metadata": {
    "colab": {
     "base_uri": "https://localhost:8080/",
     "height": 472
    },
    "id": "wT-WYWpb3EkR",
    "outputId": "96514774-a78d-45c8-b31a-6e7e4f40ea2d"
   },
   "outputs": [
    {
     "data": {
      "image/png": "[encoded data removed]",
      "text/plain": [
       "<Figure size 640x480 with 1 Axes>"
      ]
     },
     "metadata": {},
     "output_type": "display_data"
    }
   ],
   "source": [
    "compare_models(cnn_results, lstm_results, lstmCnn_results)\n",
    "zipped_model_accuracies = zip(cnn_results['Accuracy'], lstm_results['Accuracy'], lstmCnn_results['Accuracy'])"
   ]
  },
  {
   "cell_type": "markdown",
   "metadata": {
    "id": "ILsNsN8y4pwS"
   },
   "source": [
    "# TESTING OF THE TRAINED MODELS "
   ]
  },
  {
   "cell_type": "code",
   "execution_count": 36,
   "metadata": {
    "colab": {
     "base_uri": "https://localhost:8080/"
    },
    "id": "np8TGN_D4us6",
    "outputId": "9c7b5997-2fb2-4559-dc3e-0cb10fb80f0f"
   },
   "outputs": [
    {
     "name": "stdout",
     "output_type": "stream",
     "text": [
      "Enter a name to test: anjani\n",
      "1/1 [==============================] - 0s 44ms/step\n",
      "Female\n",
      "Probability:  0.8945634\n",
      "Do you want to enter more names?(y/n)y\n",
      "Enter a name to test: Shivali\n",
      "1/1 [==============================] - 0s 34ms/step\n",
      "Male\n",
      "Probability:  0.9385098\n",
      "Do you want to enter more names?(y/n)y\n",
      "Enter a name to test: Harsh\n",
      "1/1 [==============================] - 0s 27ms/step\n",
      "Male\n",
      "Probability:  0.9712712\n",
      "Do you want to enter more names?(y/n)y\n",
      "Enter a name to test: Lax\n",
      "1/1 [==============================] - 0s 27ms/step\n",
      "Male\n",
      "Probability:  0.5024582\n",
      "Do you want to enter more names?(y/n)y\n",
      "Enter a name to test: john\n",
      "1/1 [==============================] - 0s 41ms/step\n",
      "Male\n",
      "Probability:  0.9007669\n",
      "Do you want to enter more names?(y/n)n\n"
     ]
    }
   ],
   "source": [
    "choice = 'y'\n",
    "while (choice == 'y'):\n",
    "    name = input('Enter a name to test: ')\n",
    "    name = name.lower()\n",
    "    chars = list(name)\n",
    "    wordVec = [word2vec.wv[ch] for ch in chars]\n",
    "    max_length=35\n",
    "    padded_data=[(wordVec + [np.zeros(size,dtype='float32')]*(max_length-len(wordVec)))]\n",
    "    padded_data=np.array(padded_data).astype('float32')\n",
    "    padded_data.shape\n",
    "    pred=model.predict(padded_data)\n",
    "    classes_x=np.argmax(pred,axis=1)\n",
    "    print('Female' if not classes_x else 'Male')\n",
    "    print('Probability: ',max(pred[0]))\n",
    "    choice=input('Do you want to enter more names?(y/n)')\n",
    "    choice=choice.lower()"
   ]
  }
 ],
 "metadata": {
  "colab": {
   "provenance": []
  },
  "kernelspec": {
   "display_name": "Python 3",
   "language": "python",
   "name": "python3"
  },
  "language_info": {
   "codemirror_mode": {
    "name": "ipython",
    "version": 3
   },
   "file_extension": ".py",
   "mimetype": "text/x-python",
   "name": "python",
   "nbconvert_exporter": "python",
   "pygments_lexer": "ipython3",
   "version": "3.8.8"
  }
 },
 "nbformat": 4,
 "nbformat_minor": 1
}
